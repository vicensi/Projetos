{
  "cells": [
    {
      "cell_type": "markdown",
      "metadata": {
        "id": "view-in-github",
        "colab_type": "text"
      },
      "source": [
        "<a href=\"https://colab.research.google.com/github/vicensi/Projetos/blob/main/Otimiza%C3%A7%C3%A3o_de_Pre%C3%A7os_e_Mix_de_Produtos.ipynb\" target=\"_parent\"><img src=\"https://colab.research.google.com/assets/colab-badge.svg\" alt=\"Open In Colab\"/></a>"
      ]
    },
    {
      "cell_type": "markdown",
      "metadata": {
        "id": "Lqvig7Xauh8f"
      },
      "source": [
        "\n",
        "# <font color='blue'>Business Analytics</font>\n",
        "\n",
        "# <font color='blue'>Marketing Analytics</font>\n",
        "\n",
        "## <font color='blue'>Otimização de Preços e Mix de Produtos</font>"
      ]
    },
    {
      "cell_type": "code",
      "execution_count": 1,
      "metadata": {
        "colab": {
          "base_uri": "https://localhost:8080/"
        },
        "id": "YLAJ_sQAuh8i",
        "outputId": "b592a9cf-21a4-4bf1-8e00-1a358b8c5127"
      },
      "outputs": [
        {
          "output_type": "stream",
          "name": "stdout",
          "text": [
            "Versão da Linguagem Python Usada Neste Jupyter Notebook: 3.10.12\n"
          ]
        }
      ],
      "source": [
        "# Versão da Linguagem Python\n",
        "from platform import python_version\n",
        "print('Versão da Linguagem Python Usada Neste Jupyter Notebook:', python_version())"
      ]
    },
    {
      "cell_type": "markdown",
      "metadata": {
        "id": "figO_Lnjuh8k"
      },
      "source": [
        "![title](imagens/projeto4.png)"
      ]
    },
    {
      "cell_type": "markdown",
      "metadata": {
        "id": "6QT5CWp7uh8k"
      },
      "source": [
        "## Marketing Analytics\n",
        "\n",
        "Marketing Analytics compreende os processos e tecnologias que permitem aos profissionais de Marketing avaliar o sucesso de suas iniciativas.\n",
        "\n",
        "Isso é feito medindo o desempenho das campanhas de Marketing, coletando os dados e analisando os resultados. Marketing Analytics utiliza métricas importantes de negócios, como ROI (Retorno Sobre o Investimento), Atribuição de Marketing e Eficácia Geral do Marketing. Em outras palavras, o Marketing Analytics mostra se os programas de Marketing estão sendo efetivos ou não.\n",
        "\n",
        "Marketing Analytics reúne dados de todos os canais de marketing e os consolida em uma visão de marketing comum. A partir dessa visão comum, você pode extrair resultados analíticos que podem fornecer assistência inestimável para impulsionar os esforços de marketing."
      ]
    },
    {
      "cell_type": "markdown",
      "metadata": {
        "id": "-2ZtDk9zuh8k"
      },
      "source": [
        "## Instalando e Carregando os Pacotes"
      ]
    },
    {
      "cell_type": "code",
      "execution_count": 2,
      "metadata": {
        "colab": {
          "base_uri": "https://localhost:8080/"
        },
        "id": "4d7nGxhQuh8l",
        "outputId": "e6d46e8a-e90f-43de-a727-24592e4d164b"
      },
      "outputs": [
        {
          "output_type": "stream",
          "name": "stdout",
          "text": [
            "\u001b[2K     \u001b[90m━━━━━━━━━━━━━━━━━━━━━━━━━━━━━━━━━━━━━━━━\u001b[0m \u001b[32m1.6/1.6 MB\u001b[0m \u001b[31m6.7 MB/s\u001b[0m eta \u001b[36m0:00:00\u001b[0m\n",
            "\u001b[?25h"
          ]
        }
      ],
      "source": [
        "# Para atualizar um pacote, execute o comando abaixo no terminal ou prompt de comando:\n",
        "# pip install -U nome_pacote\n",
        "\n",
        "# Para instalar a versão exata de um pacote, execute o comando abaixo no terminal ou prompt de comando:\n",
        "# !pip install nome_pacote==versão_desejada\n",
        "\n",
        "# Depois de instalar ou atualizar o pacote, reinicie o jupyter notebook.\n",
        "\n",
        "# Instala o pacote watermark.\n",
        "# Esse pacote é usado para gravar as versões de outros pacotes usados neste jupyter notebook.\n",
        "!pip install -q -U watermark"
      ]
    },
    {
      "cell_type": "code",
      "execution_count": 3,
      "metadata": {
        "colab": {
          "base_uri": "https://localhost:8080/"
        },
        "id": "XNh_SCnhuh8l",
        "outputId": "02b753ba-f1c3-4e84-a1df-dc7e94c80b6f"
      },
      "outputs": [
        {
          "output_type": "stream",
          "name": "stdout",
          "text": [
            "\u001b[2K     \u001b[90m━━━━━━━━━━━━━━━━━━━━━━━━━━━━━━━━━━━━━━━━\u001b[0m \u001b[32m17.7/17.7 MB\u001b[0m \u001b[31m51.2 MB/s\u001b[0m eta \u001b[36m0:00:00\u001b[0m\n",
            "\u001b[?25h"
          ]
        }
      ],
      "source": [
        "# Instala o PuLP\n",
        "# https://pypi.org/project/PuLP/\n",
        "# https://coin-or.github.io/pulp/\n",
        "!pip install -q pulp"
      ]
    },
    {
      "cell_type": "code",
      "execution_count": 4,
      "metadata": {
        "id": "XTd0UeB3uh8l"
      },
      "outputs": [],
      "source": [
        "# Imports\n",
        "from pulp import *"
      ]
    },
    {
      "cell_type": "markdown",
      "metadata": {
        "id": "B2_BwD5quh8m"
      },
      "source": [
        "## Criando o Modelo Matemático Para a Otimização"
      ]
    },
    {
      "cell_type": "markdown",
      "metadata": {
        "id": "nci3pmENuh8m"
      },
      "source": [
        "### Parâmetros"
      ]
    },
    {
      "cell_type": "markdown",
      "metadata": {
        "id": "sqjfNEqiuh8m"
      },
      "source": [
        "- Ai = Número máximo de smartphones modelo tipo i para vender este mês, onde i pertence ao conjunto {Lua1, Lua2}\n",
        "- Bi = Preço de venda de smartphones modelo tipo i, onde i pertence ao conjunto {Lua1, Lua2}\n",
        "- Ci = Preço de custo das peças componentes para smartphones modelo tipo i, onde i pertence ao conjunto {Lua1, Lua2}\n",
        "- Di = Custo de mão de obra de montagem por hora de smartphones modelo tipo i, onde i pertence ao conjunto {Lua1, Lua2}\n",
        "- Ei = Custo de mão de obra de teste por hora de smartphones modelo tipo i, onde i pertence ao conjunto {Lua1, Lua2}\n",
        "- F = Número máximo de horas de trabalho de montagem\n",
        "- G = Número máximo de horas de trabalho de teste\n",
        "- Hf,i = Horas de montagem necessárias para construir cada modelo de smartphone tipo i, onde i pertence ao conjunto {Lua1, Lua2}\n",
        "- Hg,i = Horas de teste necessárias para testar cada modelo de smartphone tipo i, onde i pertence ao conjunto {Lua1, Lua2}"
      ]
    },
    {
      "cell_type": "markdown",
      "metadata": {
        "id": "ubcFzFseuh8m"
      },
      "source": [
        "### Variável de Decisão"
      ]
    },
    {
      "cell_type": "markdown",
      "metadata": {
        "id": "n4k_yYYSuh8m"
      },
      "source": [
        "- Xi = Número de smartphones modelo tipo i a produzir este mês, onde i pertence ao conjunto {Lua1, Lua2}"
      ]
    },
    {
      "cell_type": "markdown",
      "metadata": {
        "id": "epVJY2tpuh8m"
      },
      "source": [
        "### Restrições"
      ]
    },
    {
      "cell_type": "markdown",
      "metadata": {
        "id": "vPAhMH8guh8n"
      },
      "source": [
        "- O número de smartphones modelo tipo i a serem produzidos não pode ser negativo, ou seja, Xi >= 0, onde i pertence ao conjunto {Lua1, Lua2}.\n",
        "\n",
        "\n",
        "- O número total de horas de montagem não pode ser maior que o número máximo de horas de mão de obra de montagem disponíveis.\n",
        "\n",
        "\n",
        "- O número total de horas de teste não pode ser maior do que o máximo de horas de mão de obra de teste disponíveis.\n",
        "\n",
        "\n",
        "- O número de smartphones modelo tipo i a serem produzidos não pode ser maior do que o número máximo de smartphones modelo tipo i a serem vendidos neste mês, onde i pertence ao conjunto {Lua1, Lua2}."
      ]
    },
    {
      "cell_type": "markdown",
      "metadata": {
        "id": "jE932HCLuh8o"
      },
      "source": [
        "## Implementando o Modelo Matemático\n",
        "\n",
        "### Organizando os Parâmetros"
      ]
    },
    {
      "cell_type": "code",
      "execution_count": 5,
      "metadata": {
        "id": "diHr7t4Vuh8o"
      },
      "outputs": [],
      "source": [
        "# Número máximo de smartphones para vender este mês\n",
        "A_Lua1 = 600\n",
        "A_Lua2 = 1200"
      ]
    },
    {
      "cell_type": "code",
      "execution_count": 6,
      "metadata": {
        "id": "40wppfnluh8o"
      },
      "outputs": [],
      "source": [
        "# Preço de venda de smartphones\n",
        "B_Lua1 = 300\n",
        "B_Lua2 = 450"
      ]
    },
    {
      "cell_type": "code",
      "execution_count": 7,
      "metadata": {
        "id": "PcEQZeqkuh8o"
      },
      "outputs": [],
      "source": [
        "# Preço de custo das peças componentes para smartphones\n",
        "C_Lua1 = 150\n",
        "C_Lua2 = 225"
      ]
    },
    {
      "cell_type": "code",
      "execution_count": 8,
      "metadata": {
        "id": "I2OM09wauh8o"
      },
      "outputs": [],
      "source": [
        "# Custo de mão de obra de montagem por hora de smartphones\n",
        "D_Lua1 = 11\n",
        "D_Lua2 = 11"
      ]
    },
    {
      "cell_type": "code",
      "execution_count": 9,
      "metadata": {
        "id": "xSK8mcVGuh8o"
      },
      "outputs": [],
      "source": [
        "# Custo de mão de obra de teste por hora de smartphones\n",
        "E_Lua1 = 15\n",
        "E_Lua2 = 15"
      ]
    },
    {
      "cell_type": "code",
      "execution_count": 10,
      "metadata": {
        "id": "Ma-jlmEGuh8o"
      },
      "outputs": [],
      "source": [
        "# Número máximo de horas de trabalho de montagem\n",
        "F = 10000"
      ]
    },
    {
      "cell_type": "code",
      "execution_count": 11,
      "metadata": {
        "id": "2vrphP6Xuh8o"
      },
      "outputs": [],
      "source": [
        "# Número máximo de horas de trabalho de teste\n",
        "G = 3000"
      ]
    },
    {
      "cell_type": "code",
      "execution_count": 12,
      "metadata": {
        "id": "rYG91TJJuh8o"
      },
      "outputs": [],
      "source": [
        "# Horas de montagem necessárias para construir cada modelo de smartphone\n",
        "Hfi_Lua1 = 5\n",
        "Hfi_Lua2 = 6"
      ]
    },
    {
      "cell_type": "code",
      "execution_count": 13,
      "metadata": {
        "id": "IyR_Sq_huh8p"
      },
      "outputs": [],
      "source": [
        "# Horas de teste necessárias para testar cada modelo de smartphone\n",
        "Hgi_Lua1 = 1\n",
        "Hgi_Lua2 = 2"
      ]
    },
    {
      "cell_type": "markdown",
      "metadata": {
        "id": "zobEcOLluh8p"
      },
      "source": [
        "### Criação da Variável Para o Problema de Otimização"
      ]
    },
    {
      "cell_type": "code",
      "execution_count": 14,
      "metadata": {
        "colab": {
          "base_uri": "https://localhost:8080/"
        },
        "id": "XDTi6Gieuh8p",
        "outputId": "e577c8ed-234b-4f4f-9e05-b1f9272d3acd"
      },
      "outputs": [
        {
          "output_type": "stream",
          "name": "stdout",
          "text": [
            "Help on class LpProblem in module pulp.pulp:\n",
            "\n",
            "class LpProblem(builtins.object)\n",
            " |  LpProblem(name='NoName', sense=1)\n",
            " |  \n",
            " |  An LP Problem\n",
            " |  \n",
            " |  Methods defined here:\n",
            " |  \n",
            " |  __getstate__(self)\n",
            " |  \n",
            " |  __iadd__(self, other)\n",
            " |  \n",
            " |  __init__(self, name='NoName', sense=1)\n",
            " |      Creates an LP Problem\n",
            " |      \n",
            " |      This function creates a new LP Problem  with the specified associated parameters\n",
            " |      \n",
            " |      :param name: name of the problem used in the output .lp file\n",
            " |      :param sense: of the LP problem objective.                  Either :data:`~pulp.const.LpMinimize` (default)                 or :data:`~pulp.const.LpMaximize`.\n",
            " |      :return: An LP Problem\n",
            " |  \n",
            " |  __repr__(self)\n",
            " |      Return repr(self).\n",
            " |  \n",
            " |  __setstate__(self, state)\n",
            " |  \n",
            " |  add(self, constraint, name=None)\n",
            " |  \n",
            " |  addConstraint(self, constraint, name=None)\n",
            " |  \n",
            " |  addVariable(self, variable)\n",
            " |      Adds a variable to the problem before a constraint is added\n",
            " |      \n",
            " |      @param variable: the variable to be added\n",
            " |  \n",
            " |  addVariables(self, variables)\n",
            " |      Adds variables to the problem before a constraint is added\n",
            " |      \n",
            " |      @param variables: the variables to be added\n",
            " |  \n",
            " |  assignConsPi(self, values)\n",
            " |  \n",
            " |  assignConsSlack(self, values, activity=False)\n",
            " |  \n",
            " |  assignStatus(self, status, sol_status=None)\n",
            " |      Sets the status of the model after solving.\n",
            " |      :param status: code for the status of the model\n",
            " |      :param sol_status: code for the status of the solution\n",
            " |      :return:\n",
            " |  \n",
            " |  assignVarsDj(self, values)\n",
            " |  \n",
            " |  assignVarsVals(self, values)\n",
            " |  \n",
            " |  checkDuplicateVars(self) -> None\n",
            " |      Checks if there are at least two variables with the same name\n",
            " |      :return: 1\n",
            " |      :raises `const.PulpError`: if there ar duplicates\n",
            " |  \n",
            " |  checkLengthVars(self, max_length: int) -> None\n",
            " |      Checks if variables have names smaller than `max_length`\n",
            " |      :param int max_length: max size for variable name\n",
            " |      :return:\n",
            " |      :raises const.PulpError: if there is at least one variable that has a long name\n",
            " |  \n",
            " |  coefficients(self, translation=None)\n",
            " |  \n",
            " |  copy(self)\n",
            " |      Make a copy of self. Expressions are copied by reference\n",
            " |  \n",
            " |  deepcopy(self)\n",
            " |      Make a copy of self. Expressions are copied by value\n",
            " |  \n",
            " |  extend(self, other, use_objective=True)\n",
            " |      extends an LpProblem by adding constraints either from a dictionary\n",
            " |      a tuple or another LpProblem object.\n",
            " |      \n",
            " |      @param use_objective: determines whether the objective is imported from\n",
            " |      the other problem\n",
            " |      \n",
            " |      For dictionaries the constraints will be named with the keys\n",
            " |      For tuples an unique name will be generated\n",
            " |      For LpProblems the name of the problem will be added to the constraints\n",
            " |      name\n",
            " |  \n",
            " |  fixObjective(self)\n",
            " |  \n",
            " |  getSense(self)\n",
            " |  \n",
            " |  get_dummyVar(self)\n",
            " |  \n",
            " |  infeasibilityGap(self, mip=1)\n",
            " |  \n",
            " |  isMIP(self)\n",
            " |  \n",
            " |  normalisedNames(self)\n",
            " |  \n",
            " |  numConstraints(self)\n",
            " |      :return: number of constraints in model\n",
            " |  \n",
            " |  numVariables(self)\n",
            " |      :return: number of variables in model\n",
            " |  \n",
            " |  resolve(self, solver=None, **kwargs)\n",
            " |      resolves an Problem using the same solver as previously\n",
            " |  \n",
            " |  restoreObjective(self, wasNone, dummyVar)\n",
            " |  \n",
            " |  roundSolution(self, epsInt=1e-05, eps=1e-07)\n",
            " |      Rounds the lp variables\n",
            " |      \n",
            " |      Inputs:\n",
            " |          - none\n",
            " |      \n",
            " |      Side Effects:\n",
            " |          - The lp variables are rounded\n",
            " |  \n",
            " |  sequentialSolve(self, objectives, absoluteTols=None, relativeTols=None, solver=None, debug=False)\n",
            " |      Solve the given Lp problem with several objective functions.\n",
            " |      \n",
            " |      This function sequentially changes the objective of the problem\n",
            " |      and then adds the objective function as a constraint\n",
            " |      \n",
            " |      :param objectives: the list of objectives to be used to solve the problem\n",
            " |      :param absoluteTols: the list of absolute tolerances to be applied to\n",
            " |         the constraints should be +ve for a minimise objective\n",
            " |      :param relativeTols: the list of relative tolerances applied to the constraints\n",
            " |      :param solver: the specific solver to be used, defaults to the default solver.\n",
            " |  \n",
            " |  setObjective(self, obj)\n",
            " |      Sets the input variable as the objective function. Used in Columnwise Modelling\n",
            " |      \n",
            " |      :param obj: the objective function of type :class:`LpConstraintVar`\n",
            " |      \n",
            " |      Side Effects:\n",
            " |          - The objective function is set\n",
            " |  \n",
            " |  setSolver(self, solver=<pulp.apis.coin_api.PULP_CBC_CMD object at 0x7b55ec285c60>)\n",
            " |      Sets the Solver for this problem useful if you are using\n",
            " |      resolve\n",
            " |  \n",
            " |  solve(self, solver=None, **kwargs)\n",
            " |      Solve the given Lp problem.\n",
            " |      \n",
            " |      This function changes the problem to make it suitable for solving\n",
            " |      then calls the solver.actualSolve() method to find the solution\n",
            " |      \n",
            " |      :param solver:  Optional: the specific solver to be used, defaults to the\n",
            " |            default solver.\n",
            " |      \n",
            " |      Side Effects:\n",
            " |          - The attributes of the problem object are changed in\n",
            " |            :meth:`~pulp.solver.LpSolver.actualSolve()` to reflect the Lp solution\n",
            " |  \n",
            " |  startClock(self)\n",
            " |      initializes properties with the current time\n",
            " |  \n",
            " |  stopClock(self)\n",
            " |      updates time wall time and cpu time\n",
            " |  \n",
            " |  toDict(self)\n",
            " |      creates a dictionary from the model with as much data as possible.\n",
            " |      It replaces variables by variable names.\n",
            " |      So it requires to have unique names for variables.\n",
            " |      \n",
            " |      :return: dictionary with model data\n",
            " |      :rtype: dict\n",
            " |  \n",
            " |  toJson(self, filename, *args, **kwargs)\n",
            " |      Creates a json file from the LpProblem information\n",
            " |      \n",
            " |      :param str filename: filename to write json\n",
            " |      :param args: additional arguments for json function\n",
            " |      :param kwargs: additional keyword arguments for json function\n",
            " |      :return: None\n",
            " |  \n",
            " |  to_dict = toDict(self)\n",
            " |  \n",
            " |  to_json = toJson(self, filename, *args, **kwargs)\n",
            " |  \n",
            " |  unusedConstraintName(self)\n",
            " |  \n",
            " |  valid(self, eps=0)\n",
            " |  \n",
            " |  variables(self)\n",
            " |      Returns the problem variables\n",
            " |      \n",
            " |      :return: A list containing the problem variables\n",
            " |      :rtype: (list, :py:class:`LpVariable`)\n",
            " |  \n",
            " |  variablesDict(self)\n",
            " |  \n",
            " |  writeLP(self, filename, writeSOS=1, mip=1, max_length=100)\n",
            " |      Write the given Lp problem to a .lp file.\n",
            " |      \n",
            " |      This function writes the specifications (objective function,\n",
            " |      constraints, variables) of the defined Lp problem to a file.\n",
            " |      \n",
            " |      :param str filename: the name of the file to be created.\n",
            " |      :return: variables\n",
            " |      Side Effects:\n",
            " |          - The file is created\n",
            " |  \n",
            " |  writeMPS(self, filename, mpsSense=0, rename=0, mip=1, with_objsense: bool = False)\n",
            " |      Writes an mps files from the problem information\n",
            " |      \n",
            " |      :param str filename: name of the file to write\n",
            " |      :param int mpsSense:\n",
            " |      :param bool rename: if True, normalized names are used for variables and constraints\n",
            " |      :param mip: variables and variable renames\n",
            " |      :return:\n",
            " |      Side Effects:\n",
            " |          - The file is created\n",
            " |  \n",
            " |  ----------------------------------------------------------------------\n",
            " |  Class methods defined here:\n",
            " |  \n",
            " |  fromDict(_dict) from builtins.type\n",
            " |      Takes a dictionary with all necessary information to build a model.\n",
            " |      And returns a dictionary of variables and a problem object\n",
            " |      \n",
            " |      :param _dict: dictionary with the model stored\n",
            " |      :return: a tuple with a dictionary of variables and a :py:class:`LpProblem`\n",
            " |  \n",
            " |  fromJson(filename) from builtins.type\n",
            " |      Creates a new Lp Problem from a json file with information\n",
            " |      \n",
            " |      :param str filename: json file name\n",
            " |      :return: a tuple with a dictionary of variables and an LpProblem\n",
            " |      :rtype: (dict, :py:class:`LpProblem`)\n",
            " |  \n",
            " |  fromMPS(filename, sense=1, **kwargs) from builtins.type\n",
            " |  \n",
            " |  from_dict = fromDict(_dict) from builtins.type\n",
            " |      Takes a dictionary with all necessary information to build a model.\n",
            " |      And returns a dictionary of variables and a problem object\n",
            " |      \n",
            " |      :param _dict: dictionary with the model stored\n",
            " |      :return: a tuple with a dictionary of variables and a :py:class:`LpProblem`\n",
            " |  \n",
            " |  from_json = fromJson(filename) from builtins.type\n",
            " |      Creates a new Lp Problem from a json file with information\n",
            " |      \n",
            " |      :param str filename: json file name\n",
            " |      :return: a tuple with a dictionary of variables and an LpProblem\n",
            " |      :rtype: (dict, :py:class:`LpProblem`)\n",
            " |  \n",
            " |  ----------------------------------------------------------------------\n",
            " |  Data descriptors defined here:\n",
            " |  \n",
            " |  __dict__\n",
            " |      dictionary for instance variables (if defined)\n",
            " |  \n",
            " |  __weakref__\n",
            " |      list of weak references to the object (if defined)\n",
            "\n"
          ]
        }
      ],
      "source": [
        "help(LpProblem)"
      ]
    },
    {
      "cell_type": "code",
      "execution_count": 15,
      "metadata": {
        "id": "3jowSlJquh8p"
      },
      "outputs": [],
      "source": [
        "# Variável para o problema\n",
        "problema = LpProblem(\"MixProdutos\", LpMaximize)"
      ]
    },
    {
      "cell_type": "code",
      "execution_count": 16,
      "metadata": {
        "colab": {
          "base_uri": "https://localhost:8080/"
        },
        "id": "zDpu7e8iuh8p",
        "outputId": "02f567e9-cbee-4bd9-ebf7-4cd182b2d4f8"
      },
      "outputs": [
        {
          "output_type": "execute_result",
          "data": {
            "text/plain": [
              "MixProdutos:\n",
              "MAXIMIZE\n",
              "None\n",
              "VARIABLES"
            ]
          },
          "metadata": {},
          "execution_count": 16
        }
      ],
      "source": [
        "# Visualiza\n",
        "problema"
      ]
    },
    {
      "cell_type": "markdown",
      "metadata": {
        "id": "J8Jg3I57uh8p"
      },
      "source": [
        "### Definindo a Variável de Decisão de Cada Modelo de Smartphone"
      ]
    },
    {
      "cell_type": "code",
      "execution_count": 17,
      "metadata": {
        "colab": {
          "base_uri": "https://localhost:8080/"
        },
        "id": "pjXrtc-Tuh8p",
        "outputId": "1e7c3bae-91a9-4bfb-98b8-24a2b105fd5f"
      },
      "outputs": [
        {
          "output_type": "stream",
          "name": "stdout",
          "text": [
            "Help on class LpVariable in module pulp.pulp:\n",
            "\n",
            "class LpVariable(LpElement)\n",
            " |  LpVariable(name, lowBound=None, upBound=None, cat='Continuous', e=None)\n",
            " |  \n",
            " |  This class models an LP Variable with the specified associated parameters\n",
            " |  \n",
            " |  :param name: The name of the variable used in the output .lp file\n",
            " |  :param lowBound: The lower bound on this variable's range.\n",
            " |      Default is negative infinity\n",
            " |  :param upBound: The upper bound on this variable's range.\n",
            " |      Default is positive infinity\n",
            " |  :param cat: The category this variable is in, Integer, Binary or\n",
            " |      Continuous(default)\n",
            " |  :param e: Used for column based modelling: relates to the variable's\n",
            " |      existence in the objective function and constraints\n",
            " |  \n",
            " |  Method resolution order:\n",
            " |      LpVariable\n",
            " |      LpElement\n",
            " |      builtins.object\n",
            " |  \n",
            " |  Methods defined here:\n",
            " |  \n",
            " |  __bool__(self)\n",
            " |  \n",
            " |  __init__(self, name, lowBound=None, upBound=None, cat='Continuous', e=None)\n",
            " |      Initialize self.  See help(type(self)) for accurate signature.\n",
            " |  \n",
            " |  __ne__(self, other)\n",
            " |      Return self!=value.\n",
            " |  \n",
            " |  addVariableToConstraints(self, e)\n",
            " |      adds a variable to the constraints indicated by\n",
            " |      the LpConstraintVars in e\n",
            " |  \n",
            " |  add_expression(self, e)\n",
            " |  \n",
            " |  asCplexLpAffineExpression(self, name, constant=1)\n",
            " |  \n",
            " |  asCplexLpVariable(self)\n",
            " |  \n",
            " |  bounds(self, low, up)\n",
            " |  \n",
            " |  fixValue(self)\n",
            " |      changes lower bound and upper bound to the initial value if exists.\n",
            " |      :return: None\n",
            " |  \n",
            " |  getLb(self)\n",
            " |  \n",
            " |  getUb(self)\n",
            " |  \n",
            " |  infeasibilityGap(self, mip=1)\n",
            " |  \n",
            " |  isBinary(self)\n",
            " |  \n",
            " |  isConstant(self)\n",
            " |  \n",
            " |  isFixed(self)\n",
            " |      :return: True if upBound and lowBound are the same\n",
            " |      :rtype: bool\n",
            " |  \n",
            " |  isFree(self)\n",
            " |  \n",
            " |  isInteger(self)\n",
            " |  \n",
            " |  isPositive(self)\n",
            " |  \n",
            " |  positive(self)\n",
            " |  \n",
            " |  round(self, epsInt=1e-05, eps=1e-07)\n",
            " |  \n",
            " |  roundedValue(self, eps=1e-05)\n",
            " |  \n",
            " |  setInitialValue(self, val, check=True)\n",
            " |      sets the initial value of the variable to `val`\n",
            " |      May be used for warmStart a solver, if supported by the solver\n",
            " |      \n",
            " |      :param float val: value to set to variable\n",
            " |      :param bool check: if True, we check if the value fits inside the variable bounds\n",
            " |      :return: True if the value was set\n",
            " |      :raises ValueError: if check=True and the value does not fit inside the bounds\n",
            " |  \n",
            " |  toDict(self)\n",
            " |      Exports a variable into a dictionary with its relevant information\n",
            " |      \n",
            " |      :return: a dictionary with the variable information\n",
            " |      :rtype: dict\n",
            " |  \n",
            " |  to_dict = toDict(self)\n",
            " |  \n",
            " |  unfixValue(self)\n",
            " |  \n",
            " |  valid(self, eps)\n",
            " |  \n",
            " |  value(self)\n",
            " |  \n",
            " |  valueOrDefault(self)\n",
            " |  \n",
            " |  ----------------------------------------------------------------------\n",
            " |  Class methods defined here:\n",
            " |  \n",
            " |  dict(name, indices, lowBound=None, upBound=None, cat='Continuous') from builtins.type\n",
            " |  \n",
            " |  dicts(name, indices=None, lowBound=None, upBound=None, cat='Continuous', indexStart=[]) from builtins.type\n",
            " |      This function creates a dictionary of :py:class:`LpVariable` with the specified associated parameters.\n",
            " |      \n",
            " |      :param name: The prefix to the name of each LP variable created\n",
            " |      :param indices: A list of strings of the keys to the dictionary of LP\n",
            " |          variables, and the main part of the variable name itself\n",
            " |      :param lowBound: The lower bound on these variables' range. Default is\n",
            " |          negative infinity\n",
            " |      :param upBound: The upper bound on these variables' range. Default is\n",
            " |          positive infinity\n",
            " |      :param cat: The category these variables are in, Integer or\n",
            " |          Continuous(default)\n",
            " |      \n",
            " |      :return: A dictionary of :py:class:`LpVariable`\n",
            " |  \n",
            " |  fromDict(dj=None, varValue=None, **kwargs) from builtins.type\n",
            " |      Initializes a variable object from information that comes from a dictionary (kwargs)\n",
            " |      \n",
            " |      :param dj: shadow price of the variable\n",
            " |      :param float varValue: the value to set the variable\n",
            " |      :param kwargs: arguments to initialize the variable\n",
            " |      :return: a :py:class:`LpVariable`\n",
            " |      :rtype: :LpVariable\n",
            " |  \n",
            " |  from_dict = fromDict(dj=None, varValue=None, **kwargs) from builtins.type\n",
            " |      Initializes a variable object from information that comes from a dictionary (kwargs)\n",
            " |      \n",
            " |      :param dj: shadow price of the variable\n",
            " |      :param float varValue: the value to set the variable\n",
            " |      :param kwargs: arguments to initialize the variable\n",
            " |      :return: a :py:class:`LpVariable`\n",
            " |      :rtype: :LpVariable\n",
            " |  \n",
            " |  matrix(name, indices=None, lowBound=None, upBound=None, cat='Continuous', indexStart=[]) from builtins.type\n",
            " |  \n",
            " |  ----------------------------------------------------------------------\n",
            " |  Methods inherited from LpElement:\n",
            " |  \n",
            " |  __add__(self, other)\n",
            " |  \n",
            " |  __div__(self, other)\n",
            " |  \n",
            " |  __eq__(self, other)\n",
            " |      Return self==value.\n",
            " |  \n",
            " |  __ge__(self, other)\n",
            " |      Return self>=value.\n",
            " |  \n",
            " |  __hash__(self)\n",
            " |      Return hash(self).\n",
            " |  \n",
            " |  __le__(self, other)\n",
            " |      Return self<=value.\n",
            " |  \n",
            " |  __mul__(self, other)\n",
            " |  \n",
            " |  __neg__(self)\n",
            " |  \n",
            " |  __pos__(self)\n",
            " |  \n",
            " |  __radd__(self, other)\n",
            " |  \n",
            " |  __rdiv__(self, other)\n",
            " |  \n",
            " |  __repr__(self)\n",
            " |      Return repr(self).\n",
            " |  \n",
            " |  __rmul__(self, other)\n",
            " |  \n",
            " |  __rsub__(self, other)\n",
            " |  \n",
            " |  __str__(self)\n",
            " |      Return str(self).\n",
            " |  \n",
            " |  __sub__(self, other)\n",
            " |  \n",
            " |  getName(self)\n",
            " |  \n",
            " |  setName(self, name)\n",
            " |  \n",
            " |  ----------------------------------------------------------------------\n",
            " |  Data descriptors inherited from LpElement:\n",
            " |  \n",
            " |  __dict__\n",
            " |      dictionary for instance variables (if defined)\n",
            " |  \n",
            " |  __weakref__\n",
            " |      list of weak references to the object (if defined)\n",
            " |  \n",
            " |  name\n",
            " |  \n",
            " |  ----------------------------------------------------------------------\n",
            " |  Data and other attributes inherited from LpElement:\n",
            " |  \n",
            " |  expression = re.compile('[\\\\-\\\\+\\\\[\\\\]\\\\ \\\\->/]')\n",
            " |  \n",
            " |  illegal_chars = '-+[] ->/'\n",
            " |  \n",
            " |  trans = {32: 95, 43: 95, 45: 95, 47: 95, 62: 95, 91: 95, 93: 95}\n",
            "\n"
          ]
        }
      ],
      "source": [
        "help(LpVariable)"
      ]
    },
    {
      "cell_type": "code",
      "execution_count": 18,
      "metadata": {
        "id": "quj7OTTluh8p"
      },
      "outputs": [],
      "source": [
        "# Define as variáveis\n",
        "x_Lua1 = LpVariable(\"Unidades Lua1\", 0, None, LpInteger)\n",
        "x_Lua2 = LpVariable(\"Unidades Lua2\", 0, None, LpInteger)"
      ]
    },
    {
      "cell_type": "code",
      "execution_count": 19,
      "metadata": {
        "colab": {
          "base_uri": "https://localhost:8080/"
        },
        "id": "MAvEsIJWuh8p",
        "outputId": "fc0d5226-c1bc-4299-9313-18305896d1ba"
      },
      "outputs": [
        {
          "output_type": "stream",
          "name": "stdout",
          "text": [
            "Unidades_Lua1\n",
            "Unidades_Lua2\n"
          ]
        }
      ],
      "source": [
        "# Print\n",
        "print(x_Lua1)\n",
        "print(x_Lua2)"
      ]
    },
    {
      "cell_type": "markdown",
      "metadata": {
        "id": "nvam_dUEuh8p"
      },
      "source": [
        "### Implementando a Função Objetivo"
      ]
    },
    {
      "cell_type": "code",
      "execution_count": 20,
      "metadata": {
        "colab": {
          "base_uri": "https://localhost:8080/"
        },
        "id": "oHu-LdQEuh8u",
        "outputId": "6d481f47-a074-47ed-e349-d8de2de9c3ce"
      },
      "outputs": [
        {
          "output_type": "execute_result",
          "data": {
            "text/plain": [
              "300*Unidades_Lua1 + 450*Unidades_Lua2 + 0"
            ]
          },
          "metadata": {},
          "execution_count": 20
        }
      ],
      "source": [
        "# Faturamento\n",
        "faturamento = (x_Lua1 * B_Lua1) + (x_Lua2 * B_Lua2)\n",
        "faturamento"
      ]
    },
    {
      "cell_type": "code",
      "execution_count": 21,
      "metadata": {
        "colab": {
          "base_uri": "https://localhost:8080/"
        },
        "id": "fRCBPLV0uh8u",
        "outputId": "c4b6ce41-c6bb-49b3-c226-360f1ec9236c"
      },
      "outputs": [
        {
          "output_type": "execute_result",
          "data": {
            "text/plain": [
              "55*Unidades_Lua1 + 66*Unidades_Lua2 + 0"
            ]
          },
          "metadata": {},
          "execution_count": 21
        }
      ],
      "source": [
        "# Custo de Montagem\n",
        "custo_montagem = (x_Lua1 * Hfi_Lua1 * D_Lua1) + (x_Lua2 * Hfi_Lua2 * D_Lua2)\n",
        "custo_montagem"
      ]
    },
    {
      "cell_type": "code",
      "execution_count": 22,
      "metadata": {
        "colab": {
          "base_uri": "https://localhost:8080/"
        },
        "id": "imGiNedVuh8u",
        "outputId": "cbce26cc-3ff8-4d47-ab85-c0a28fa448a4"
      },
      "outputs": [
        {
          "output_type": "execute_result",
          "data": {
            "text/plain": [
              "15*Unidades_Lua1 + 30*Unidades_Lua2 + 0"
            ]
          },
          "metadata": {},
          "execution_count": 22
        }
      ],
      "source": [
        "# Custo de Teste\n",
        "custo_teste = (x_Lua1 * Hgi_Lua1 * E_Lua1) + (x_Lua2 * Hgi_Lua2 * E_Lua2)\n",
        "custo_teste"
      ]
    },
    {
      "cell_type": "code",
      "execution_count": 23,
      "metadata": {
        "colab": {
          "base_uri": "https://localhost:8080/"
        },
        "id": "x0ln6T4huh8u",
        "outputId": "d076a3b6-0b7f-4535-ea78-2d9ef67ea8ac"
      },
      "outputs": [
        {
          "output_type": "execute_result",
          "data": {
            "text/plain": [
              "150*Unidades_Lua1 + 225*Unidades_Lua2 + 0"
            ]
          },
          "metadata": {},
          "execution_count": 23
        }
      ],
      "source": [
        "# Custo de Componentes\n",
        "custo_componentes = (x_Lua1 * C_Lua1) + (x_Lua2 * C_Lua2)\n",
        "custo_componentes"
      ]
    },
    {
      "cell_type": "code",
      "execution_count": 24,
      "metadata": {
        "colab": {
          "base_uri": "https://localhost:8080/"
        },
        "id": "_9fPhS1_uh8u",
        "outputId": "c80c895e-4fda-4bba-eae6-4678edb98039"
      },
      "outputs": [
        {
          "output_type": "execute_result",
          "data": {
            "text/plain": [
              "MixProdutos:\n",
              "MAXIMIZE\n",
              "80*Unidades_Lua1 + 129*Unidades_Lua2 + 0\n",
              "VARIABLES\n",
              "0 <= Unidades_Lua1 Integer\n",
              "0 <= Unidades_Lua2 Integer"
            ]
          },
          "metadata": {},
          "execution_count": 24
        }
      ],
      "source": [
        "# Lucro = Faturamento - Custo de Montagem - Custo de Teste - Custo de Componentes\n",
        "problema += faturamento - custo_montagem - custo_teste - custo_componentes\n",
        "problema"
      ]
    },
    {
      "cell_type": "markdown",
      "metadata": {
        "id": "7GPsXj9wuh8u"
      },
      "source": [
        "### Restrições"
      ]
    },
    {
      "cell_type": "code",
      "execution_count": 25,
      "metadata": {
        "id": "VGKbbszouh8v"
      },
      "outputs": [],
      "source": [
        "# Número máximo de horas de montagem\n",
        "problema += (x_Lua1 * Hfi_Lua1) + (x_Lua2 * Hfi_Lua2) <= F,\"Número Máximo de Horas de Montagem\""
      ]
    },
    {
      "cell_type": "code",
      "execution_count": 26,
      "metadata": {
        "id": "bJ6Y7M1Nuh8v"
      },
      "outputs": [],
      "source": [
        "# Número máximo de horas de teste\n",
        "problema += (x_Lua1 * Hgi_Lua1) + (x_Lua2 * Hgi_Lua2) <= G,\"Número Máximo de Horas de Teste\""
      ]
    },
    {
      "cell_type": "code",
      "execution_count": 27,
      "metadata": {
        "id": "fSLUxM_xuh8v"
      },
      "outputs": [],
      "source": [
        "# Produção menor ou igual a demanda pelo modelo Lua1\n",
        "problema += x_Lua1 <= A_Lua1,\"Produção menor ou igual a demanda pelo modelo Lua1\""
      ]
    },
    {
      "cell_type": "code",
      "execution_count": 28,
      "metadata": {
        "id": "43QM3s1Uuh8v"
      },
      "outputs": [],
      "source": [
        "# Produção menor ou igual a demanda pelo modelo Lua2\n",
        "problema += x_Lua2 <= A_Lua2,\"Produção menor ou igual a demanda pelo modelo Lua2\""
      ]
    },
    {
      "cell_type": "code",
      "execution_count": 29,
      "metadata": {
        "colab": {
          "base_uri": "https://localhost:8080/"
        },
        "id": "thydJnRduh8v",
        "outputId": "8c761cfe-c2e0-4fbb-eb5d-b2f2bf084809"
      },
      "outputs": [
        {
          "output_type": "execute_result",
          "data": {
            "text/plain": [
              "MixProdutos:\n",
              "MAXIMIZE\n",
              "80*Unidades_Lua1 + 129*Unidades_Lua2 + 0\n",
              "SUBJECT TO\n",
              "Número_Máximo_de_Horas_de_Montagem: 5 Unidades_Lua1 + 6 Unidades_Lua2 <= 10000\n",
              "\n",
              "Número_Máximo_de_Horas_de_Teste: Unidades_Lua1 + 2 Unidades_Lua2 <= 3000\n",
              "\n",
              "Produção_menor_ou_igual_a_demanda_pelo_modelo_Lua1: Unidades_Lua1 <= 600\n",
              "\n",
              "Produção_menor_ou_igual_a_demanda_pelo_modelo_Lua2: Unidades_Lua2 <= 1200\n",
              "\n",
              "VARIABLES\n",
              "0 <= Unidades_Lua1 Integer\n",
              "0 <= Unidades_Lua2 Integer"
            ]
          },
          "metadata": {},
          "execution_count": 29
        }
      ],
      "source": [
        "# Problema final\n",
        "problema"
      ]
    },
    {
      "cell_type": "markdown",
      "metadata": {
        "id": "zsWeawBhuh8v"
      },
      "source": [
        "### Resolvendo o Problema de Otimização"
      ]
    },
    {
      "cell_type": "code",
      "execution_count": 30,
      "metadata": {
        "colab": {
          "base_uri": "https://localhost:8080/"
        },
        "id": "Q9TNNV4duh8v",
        "outputId": "237e3d02-63d3-48ea-c40d-5d4437bc5288"
      },
      "outputs": [
        {
          "output_type": "execute_result",
          "data": {
            "text/plain": [
              "1"
            ]
          },
          "metadata": {},
          "execution_count": 30
        }
      ],
      "source": [
        "# Otimização\n",
        "problema.solve()"
      ]
    },
    {
      "cell_type": "code",
      "execution_count": 31,
      "metadata": {
        "colab": {
          "base_uri": "https://localhost:8080/"
        },
        "id": "kiwxUaNcuh8v",
        "outputId": "7f0ce297-c9dd-4c27-bcd0-7f37bd3aaa97"
      },
      "outputs": [
        {
          "output_type": "stream",
          "name": "stdout",
          "text": [
            "Lucro Maximizado: 199600.0\n"
          ]
        }
      ],
      "source": [
        "# Lucro Maximizado\n",
        "print(\"Lucro Maximizado:\", value(problema.objective))"
      ]
    },
    {
      "cell_type": "code",
      "execution_count": 32,
      "metadata": {
        "colab": {
          "base_uri": "https://localhost:8080/"
        },
        "id": "L_Fs-w1Nuh8v",
        "outputId": "0c64fd81-a9e1-44c5-c4bd-247dea8422ef"
      },
      "outputs": [
        {
          "output_type": "stream",
          "name": "stdout",
          "text": [
            "Número de Unidades do Modelo Lua 1 a Produzir: 560.0\n"
          ]
        }
      ],
      "source": [
        "# Número de Unidades do Modelo Lua 1 a Produzir\n",
        "print(\"Número de Unidades do Modelo Lua 1 a Produzir:\", problema.variables()[0].varValue)"
      ]
    },
    {
      "cell_type": "code",
      "execution_count": 33,
      "metadata": {
        "colab": {
          "base_uri": "https://localhost:8080/"
        },
        "id": "ub-pcEV6uh8w",
        "outputId": "32cad6cf-b308-45e8-8d8a-9bd247ee795d"
      },
      "outputs": [
        {
          "output_type": "stream",
          "name": "stdout",
          "text": [
            "Número de Unidades do Modelo Lua 2 a Produzir: 1200.0\n"
          ]
        }
      ],
      "source": [
        "# Número de Unidades do Modelo Lua 1 a Produzir\n",
        "print(\"Número de Unidades do Modelo Lua 2 a Produzir:\", problema.variables()[1].varValue)"
      ]
    },
    {
      "cell_type": "markdown",
      "metadata": {
        "id": "bBaK9vX5uh8w"
      },
      "source": [
        "##  Conclusão"
      ]
    },
    {
      "cell_type": "markdown",
      "metadata": {
        "id": "1PY1GHQ3uh8w"
      },
      "source": [
        "A empresa Lua Smart Tech deve produzir 560 unidades do tipo de smartphone Lua1 e 1200 do tipo Lua2 para atingir o lucro máximo de R$199.600."
      ]
    },
    {
      "cell_type": "markdown",
      "metadata": {
        "id": "VdL4q2E7uh8w"
      },
      "source": [
        "# Fim"
      ]
    }
  ],
  "metadata": {
    "kernelspec": {
      "display_name": "Python 3",
      "language": "python",
      "name": "python3"
    },
    "language_info": {
      "codemirror_mode": {
        "name": "ipython",
        "version": 3
      },
      "file_extension": ".py",
      "mimetype": "text/x-python",
      "name": "python",
      "nbconvert_exporter": "python",
      "pygments_lexer": "ipython3",
      "version": "3.7.6"
    },
    "colab": {
      "provenance": [],
      "include_colab_link": true
    }
  },
  "nbformat": 4,
  "nbformat_minor": 0
}